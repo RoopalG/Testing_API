{
 "cells": [
  {
   "cell_type": "code",
   "execution_count": 1,
   "metadata": {},
   "outputs": [
    {
     "name": "stdout",
     "output_type": "stream",
     "text": [
      "Hello\n"
     ]
    }
   ],
   "source": [
    "print(\"Hello\")"
   ]
  },
  {
   "cell_type": "code",
   "execution_count": 2,
   "metadata": {},
   "outputs": [],
   "source": [
    "# This is a comments"
   ]
  },
  {
   "cell_type": "code",
   "execution_count": 3,
   "metadata": {},
   "outputs": [],
   "source": [
    "a=3 # Defining a variable"
   ]
  },
  {
   "cell_type": "code",
   "execution_count": 4,
   "metadata": {},
   "outputs": [
    {
     "name": "stdout",
     "output_type": "stream",
     "text": [
      "3\n"
     ]
    }
   ],
   "source": [
    "print(a)"
   ]
  },
  {
   "cell_type": "code",
   "execution_count": 5,
   "metadata": {},
   "outputs": [
    {
     "data": {
      "text/plain": [
       "int"
      ]
     },
     "execution_count": 5,
     "metadata": {},
     "output_type": "execute_result"
    }
   ],
   "source": [
    "type(a)"
   ]
  },
  {
   "cell_type": "code",
   "execution_count": 6,
   "metadata": {},
   "outputs": [],
   "source": [
    "a=\"Hello\""
   ]
  },
  {
   "cell_type": "code",
   "execution_count": 7,
   "metadata": {},
   "outputs": [
    {
     "name": "stdout",
     "output_type": "stream",
     "text": [
      "Hello\n"
     ]
    }
   ],
   "source": [
    "print(a)"
   ]
  },
  {
   "cell_type": "code",
   "execution_count": 8,
   "metadata": {},
   "outputs": [
    {
     "data": {
      "text/plain": [
       "str"
      ]
     },
     "execution_count": 8,
     "metadata": {},
     "output_type": "execute_result"
    }
   ],
   "source": [
    "type(a)"
   ]
  },
  {
   "cell_type": "code",
   "execution_count": 9,
   "metadata": {},
   "outputs": [
    {
     "name": "stdout",
     "output_type": "stream",
     "text": [
      "<class 'int'>\n",
      "<class 'float'>\n",
      "<class 'str'>\n"
     ]
    }
   ],
   "source": [
    "a,b,c=1,2.3,\"G\"\n",
    "print(type(a))\n",
    "print(type(b))\n",
    "print(type(c))"
   ]
  },
  {
   "cell_type": "code",
   "execution_count": 10,
   "metadata": {},
   "outputs": [
    {
     "name": "stdout",
     "output_type": "stream",
     "text": [
      "The value of a,b,c is 1 2.3 G\n"
     ]
    }
   ],
   "source": [
    "print(\"The value of a,b,c is\",a,b,c)"
   ]
  },
  {
   "cell_type": "code",
   "execution_count": 11,
   "metadata": {},
   "outputs": [],
   "source": [
    "#Data types\n",
    "#1. Numeric (int,long,float,complex)\n",
    "#2. String\n",
    "#3. List\n",
    "#4. Tuple\n",
    "#5. Dictionary"
   ]
  },
  {
   "cell_type": "code",
   "execution_count": 12,
   "metadata": {},
   "outputs": [],
   "source": [
    "list1=[1,2,3,4,5,\"Rahul\"]"
   ]
  },
  {
   "cell_type": "code",
   "execution_count": 13,
   "metadata": {},
   "outputs": [
    {
     "data": {
      "text/plain": [
       "1"
      ]
     },
     "execution_count": 13,
     "metadata": {},
     "output_type": "execute_result"
    }
   ],
   "source": [
    "list1[0] # Print element at 0 index"
   ]
  },
  {
   "cell_type": "code",
   "execution_count": 14,
   "metadata": {},
   "outputs": [
    {
     "data": {
      "text/plain": [
       "[3, 4, 5]"
      ]
     },
     "execution_count": 14,
     "metadata": {},
     "output_type": "execute_result"
    }
   ],
   "source": [
    "list1[2:5]"
   ]
  },
  {
   "cell_type": "code",
   "execution_count": 15,
   "metadata": {},
   "outputs": [],
   "source": [
    "list1.insert(2,\"Delhi\")"
   ]
  },
  {
   "cell_type": "code",
   "execution_count": 16,
   "metadata": {},
   "outputs": [
    {
     "data": {
      "text/plain": [
       "[1, 2, 'Delhi', 3, 4, 5, 'Rahul']"
      ]
     },
     "execution_count": 16,
     "metadata": {},
     "output_type": "execute_result"
    }
   ],
   "source": [
    "list1"
   ]
  },
  {
   "cell_type": "code",
   "execution_count": 17,
   "metadata": {},
   "outputs": [],
   "source": [
    "list1.append(\"Mumbai\")"
   ]
  },
  {
   "cell_type": "code",
   "execution_count": 18,
   "metadata": {},
   "outputs": [
    {
     "data": {
      "text/plain": [
       "[1, 2, 'Delhi', 3, 4, 5, 'Rahul', 'Mumbai']"
      ]
     },
     "execution_count": 18,
     "metadata": {},
     "output_type": "execute_result"
    }
   ],
   "source": [
    "list1"
   ]
  },
  {
   "cell_type": "code",
   "execution_count": 19,
   "metadata": {},
   "outputs": [],
   "source": [
    "list1[-1]=\"Maurya\""
   ]
  },
  {
   "cell_type": "code",
   "execution_count": 20,
   "metadata": {},
   "outputs": [
    {
     "data": {
      "text/plain": [
       "[1, 2, 'Delhi', 3, 4, 5, 'Rahul', 'Maurya']"
      ]
     },
     "execution_count": 20,
     "metadata": {},
     "output_type": "execute_result"
    }
   ],
   "source": [
    "list1"
   ]
  },
  {
   "cell_type": "code",
   "execution_count": 21,
   "metadata": {},
   "outputs": [],
   "source": [
    "del list1[2]"
   ]
  },
  {
   "cell_type": "code",
   "execution_count": 22,
   "metadata": {},
   "outputs": [
    {
     "data": {
      "text/plain": [
       "[1, 2, 3, 4, 5, 'Rahul', 'Maurya']"
      ]
     },
     "execution_count": 22,
     "metadata": {},
     "output_type": "execute_result"
    }
   ],
   "source": [
    "list1"
   ]
  },
  {
   "cell_type": "code",
   "execution_count": 23,
   "metadata": {},
   "outputs": [],
   "source": [
    "tuple1=(1,2,3,4,5,\"Rahul\")"
   ]
  },
  {
   "cell_type": "code",
   "execution_count": 24,
   "metadata": {},
   "outputs": [
    {
     "data": {
      "text/plain": [
       "list"
      ]
     },
     "execution_count": 24,
     "metadata": {},
     "output_type": "execute_result"
    }
   ],
   "source": [
    "type(list1)"
   ]
  },
  {
   "cell_type": "code",
   "execution_count": 25,
   "metadata": {},
   "outputs": [
    {
     "data": {
      "text/plain": [
       "tuple"
      ]
     },
     "execution_count": 25,
     "metadata": {},
     "output_type": "execute_result"
    }
   ],
   "source": [
    "type(tuple1)"
   ]
  },
  {
   "cell_type": "code",
   "execution_count": 26,
   "metadata": {},
   "outputs": [],
   "source": [
    "#Dictionary"
   ]
  },
  {
   "cell_type": "code",
   "execution_count": 27,
   "metadata": {},
   "outputs": [],
   "source": [
    "dict1={\"First_Name\":\"Rahul\",\"Last_Name\":\"Maurya\",\"Date\":\"25 Nov 2021\",\"Age\":\"24\"}"
   ]
  },
  {
   "cell_type": "code",
   "execution_count": 28,
   "metadata": {},
   "outputs": [
    {
     "data": {
      "text/plain": [
       "'Rahul'"
      ]
     },
     "execution_count": 28,
     "metadata": {},
     "output_type": "execute_result"
    }
   ],
   "source": [
    "dict1[\"First_Name\"]"
   ]
  },
  {
   "cell_type": "code",
   "execution_count": 29,
   "metadata": {},
   "outputs": [
    {
     "name": "stdout",
     "output_type": "stream",
     "text": [
      "{'First_Name': 'Rahul', 'Last_Name': 'Maurya', 'Date': '25 Nov 2021', 'Age': '24'}\n"
     ]
    }
   ],
   "source": [
    "print(dict1)"
   ]
  },
  {
   "cell_type": "code",
   "execution_count": 30,
   "metadata": {},
   "outputs": [
    {
     "name": "stdout",
     "output_type": "stream",
     "text": [
      "dict_keys(['First_Name', 'Last_Name', 'Date', 'Age'])\n"
     ]
    }
   ],
   "source": [
    "print(dict1.keys())"
   ]
  },
  {
   "cell_type": "code",
   "execution_count": 31,
   "metadata": {},
   "outputs": [
    {
     "name": "stdout",
     "output_type": "stream",
     "text": [
      "dict_values(['Rahul', 'Maurya', '25 Nov 2021', '24'])\n"
     ]
    }
   ],
   "source": [
    "print(dict1.values())"
   ]
  },
  {
   "cell_type": "code",
   "execution_count": 32,
   "metadata": {},
   "outputs": [],
   "source": [
    "dict1={}"
   ]
  },
  {
   "cell_type": "code",
   "execution_count": 33,
   "metadata": {},
   "outputs": [],
   "source": [
    "dict1[\"First_Name\"]=\"Rahul\"\n",
    "dict1[\"Last_Name\"]=\"Maurya\"\n",
    "dict1[\"Date\"]=\"25 Nov 2021\"\n",
    "dict1[\"Age\"]=24"
   ]
  },
  {
   "cell_type": "code",
   "execution_count": 34,
   "metadata": {},
   "outputs": [
    {
     "name": "stdout",
     "output_type": "stream",
     "text": [
      "{'First_Name': 'Rahul', 'Last_Name': 'Maurya', 'Date': '25 Nov 2021', 'Age': 24}\n"
     ]
    }
   ],
   "source": [
    "print(dict1)"
   ]
  },
  {
   "cell_type": "code",
   "execution_count": 35,
   "metadata": {},
   "outputs": [
    {
     "name": "stdout",
     "output_type": "stream",
     "text": [
      "True\n",
      "Have a good day\n",
      "This is if else\n",
      "Thanks\n"
     ]
    }
   ],
   "source": [
    "# If else loop\n",
    "g=\"Morning\"\n",
    "if g==\"Morning\":\n",
    "    print(\"True\")\n",
    "else:\n",
    "    print(\"False\")\n",
    "print(\"Have a good day\")    \n",
    "print(\"This is if else\")\n",
    "print(\"Thanks\")"
   ]
  },
  {
   "cell_type": "code",
   "execution_count": 36,
   "metadata": {},
   "outputs": [
    {
     "name": "stdout",
     "output_type": "stream",
     "text": [
      "1\n",
      "2\n",
      "3\n",
      "4\n"
     ]
    }
   ],
   "source": [
    "#For loop\n",
    "l=[i for i in range(1,5)]\n",
    "for i in l:\n",
    "    print(i)"
   ]
  },
  {
   "cell_type": "code",
   "execution_count": 37,
   "metadata": {},
   "outputs": [
    {
     "name": "stdout",
     "output_type": "stream",
     "text": [
      "10\n",
      "20\n",
      "30\n",
      "40\n"
     ]
    }
   ],
   "source": [
    "\n",
    "for i in l:\n",
    "    print(i*10)"
   ]
  },
  {
   "cell_type": "code",
   "execution_count": 38,
   "metadata": {},
   "outputs": [
    {
     "name": "stdout",
     "output_type": "stream",
     "text": [
      "10\n"
     ]
    }
   ],
   "source": [
    "print(sum(l))"
   ]
  },
  {
   "cell_type": "code",
   "execution_count": 39,
   "metadata": {},
   "outputs": [
    {
     "name": "stdout",
     "output_type": "stream",
     "text": [
      "55\n"
     ]
    }
   ],
   "source": [
    "sum1=0\n",
    "for i in range(1,11):\n",
    "    sum1=sum1+i\n",
    "print(sum1)\n"
   ]
  },
  {
   "cell_type": "code",
   "execution_count": 40,
   "metadata": {},
   "outputs": [
    {
     "name": "stdout",
     "output_type": "stream",
     "text": [
      "1\n",
      "3\n",
      "5\n",
      "7\n",
      "9\n"
     ]
    }
   ],
   "source": [
    "for k in range(1,11,2):\n",
    "    print(k)"
   ]
  },
  {
   "cell_type": "code",
   "execution_count": 41,
   "metadata": {},
   "outputs": [
    {
     "name": "stdout",
     "output_type": "stream",
     "text": [
      "5\n",
      "4\n",
      "3\n",
      "2\n"
     ]
    }
   ],
   "source": [
    "# While Loop\n",
    "a=10\n",
    "while a>1:\n",
    "    if a<6:\n",
    "        print(a)\n",
    "    a=a-1\n",
    "    \n"
   ]
  },
  {
   "cell_type": "code",
   "execution_count": 42,
   "metadata": {},
   "outputs": [
    {
     "name": "stdout",
     "output_type": "stream",
     "text": [
      "1\n",
      "2\n",
      "3\n",
      "4\n",
      "5\n"
     ]
    }
   ],
   "source": [
    "# break\n",
    "for i in range(1,11):\n",
    "    print(i)\n",
    "    if i==5:\n",
    "        break\n"
   ]
  },
  {
   "cell_type": "code",
   "execution_count": 43,
   "metadata": {},
   "outputs": [
    {
     "name": "stdout",
     "output_type": "stream",
     "text": [
      "1\n",
      "2\n",
      "3\n",
      "4\n",
      "6\n",
      "7\n",
      "8\n",
      "9\n",
      "10\n"
     ]
    }
   ],
   "source": [
    "# Continue statement\n",
    "for i in range(1,11):\n",
    "    if i==5:\n",
    "        continue\n",
    "    print(i)\n"
   ]
  },
  {
   "cell_type": "code",
   "execution_count": 44,
   "metadata": {},
   "outputs": [],
   "source": [
    "# Functions\n",
    "def sum1(a,b):\n",
    "    print(a+b)\n",
    "        "
   ]
  },
  {
   "cell_type": "code",
   "execution_count": 45,
   "metadata": {},
   "outputs": [
    {
     "name": "stdout",
     "output_type": "stream",
     "text": [
      "8\n"
     ]
    }
   ],
   "source": [
    "sum1(2,6)"
   ]
  },
  {
   "cell_type": "code",
   "execution_count": 46,
   "metadata": {},
   "outputs": [],
   "source": [
    "def sum1(a,b):\n",
    "    return (a+b)"
   ]
  },
  {
   "cell_type": "code",
   "execution_count": 47,
   "metadata": {},
   "outputs": [
    {
     "data": {
      "text/plain": [
       "8"
      ]
     },
     "execution_count": 47,
     "metadata": {},
     "output_type": "execute_result"
    }
   ],
   "source": [
    "sum1(2,6)"
   ]
  },
  {
   "cell_type": "code",
   "execution_count": 48,
   "metadata": {},
   "outputs": [],
   "source": [
    "#class\n",
    "class Calculator():\n",
    "    def add(self,a,b):\n",
    "        return a+b\n",
    "    def minus(self,a,b):\n",
    "        return a-b\n",
    "    def multiply(self,a,b):\n",
    "        return a*b\n",
    "    def modulas(self,a,b):\n",
    "        return a%b\n",
    "obj=Calculator()    \n",
    "        \n",
    "    \n"
   ]
  },
  {
   "cell_type": "code",
   "execution_count": 49,
   "metadata": {},
   "outputs": [
    {
     "data": {
      "text/plain": [
       "-2"
      ]
     },
     "execution_count": 49,
     "metadata": {},
     "output_type": "execute_result"
    }
   ],
   "source": [
    "obj.minus(3,5)"
   ]
  },
  {
   "cell_type": "code",
   "execution_count": 10,
   "metadata": {},
   "outputs": [],
   "source": [
    "#class\n",
    "class area():\n",
    "    def rectangle(self,a,b):\n",
    "        return a*b\n",
    "    def circle(self,r):\n",
    "        return r*r\n",
    "Area=area()    "
   ]
  },
  {
   "cell_type": "code",
   "execution_count": 12,
   "metadata": {},
   "outputs": [
    {
     "data": {
      "text/plain": [
       "4"
      ]
     },
     "execution_count": 12,
     "metadata": {},
     "output_type": "execute_result"
    }
   ],
   "source": [
    "Area.circle(2)"
   ]
  },
  {
   "cell_type": "code",
   "execution_count": 13,
   "metadata": {},
   "outputs": [],
   "source": [
    "#Constructor\n",
    "class Calculator():\n",
    "    num=100\n",
    "    def __init__(self,a,b):\n",
    "        self.a=a\n",
    "        self.b=b\n",
    "    def add(self):\n",
    "        return self.a+self.b\n",
    "    def minus(self):\n",
    "        return self.a-self.b\n",
    "    def multiply(self):\n",
    "        return self.a*self.b\n",
    "    def modulas(self):\n",
    "        return (self.a%self.b)+self.num\n",
    "obj=Calculator(20,4)    \n",
    "        \n",
    "    "
   ]
  },
  {
   "cell_type": "code",
   "execution_count": 14,
   "metadata": {},
   "outputs": [
    {
     "data": {
      "text/plain": [
       "16"
      ]
     },
     "execution_count": 14,
     "metadata": {},
     "output_type": "execute_result"
    }
   ],
   "source": [
    "obj.minus()"
   ]
  },
  {
   "cell_type": "code",
   "execution_count": 37,
   "metadata": {},
   "outputs": [],
   "source": [
    "class area():\n",
    "    number=100\n",
    "    def __init__(self,a,b):\n",
    "        self.a=a\n",
    "        self.b=b\n",
    "    def rectangle(self):\n",
    "        return self.a*self.b\n",
    "    def square(self):\n",
    "        return self.a*self.a\n",
    "    def circle(self):\n",
    "        return self.b*self.b\n",
    "    def triangle(self):\n",
    "        return (0.5)*self.a*self.b\n",
    "Area=area(1,2)    "
   ]
  },
  {
   "cell_type": "code",
   "execution_count": 38,
   "metadata": {},
   "outputs": [
    {
     "name": "stdout",
     "output_type": "stream",
     "text": [
      "1\n",
      "2\n",
      "4\n",
      "100\n",
      "2\n",
      "1\n",
      "1.0\n"
     ]
    }
   ],
   "source": [
    "print(Area.a)\n",
    "print(Area.b)\n",
    "print(Area.circle())\n",
    "print(Area.number)\n",
    "print(Area.rectangle())\n",
    "print(Area.square())\n",
    "print(Area.triangle())"
   ]
  },
  {
   "cell_type": "code",
   "execution_count": 52,
   "metadata": {},
   "outputs": [
    {
     "data": {
      "text/plain": [
       "24"
      ]
     },
     "execution_count": 52,
     "metadata": {},
     "output_type": "execute_result"
    }
   ],
   "source": [
    "obj.add()"
   ]
  },
  {
   "cell_type": "code",
   "execution_count": 53,
   "metadata": {},
   "outputs": [
    {
     "data": {
      "text/plain": [
       "80"
      ]
     },
     "execution_count": 53,
     "metadata": {},
     "output_type": "execute_result"
    }
   ],
   "source": [
    "obj.multiply()"
   ]
  },
  {
   "cell_type": "code",
   "execution_count": 54,
   "metadata": {},
   "outputs": [
    {
     "data": {
      "text/plain": [
       "100"
      ]
     },
     "execution_count": 54,
     "metadata": {},
     "output_type": "execute_result"
    }
   ],
   "source": [
    "obj.modulas()"
   ]
  },
  {
   "cell_type": "code",
   "execution_count": 55,
   "metadata": {},
   "outputs": [],
   "source": [
    "# Inheritence\n",
    "class inheritence(Calculator):\n",
    "    num=200\n",
    "    def __init__(self):\n",
    "        Calculator.__init__(self,2,9)\n",
    "    def get_data(self):\n",
    "        return self.num+self.a+self.b+self.minus()\n",
    "obj=inheritence()    "
   ]
  },
  {
   "cell_type": "code",
   "execution_count": 56,
   "metadata": {},
   "outputs": [
    {
     "data": {
      "text/plain": [
       "204"
      ]
     },
     "execution_count": 56,
     "metadata": {},
     "output_type": "execute_result"
    }
   ],
   "source": [
    "obj.get_data()"
   ]
  },
  {
   "cell_type": "code",
   "execution_count": 39,
   "metadata": {},
   "outputs": [],
   "source": [
    "class inheritence_Area(area):\n",
    "    num=1000\n",
    "    def __init__(self):\n",
    "        area.__init__(self,10,20)\n",
    "    def data(self):\n",
    "        return self.a\n",
    "area1=inheritence_Area()"
   ]
  },
  {
   "cell_type": "code",
   "execution_count": 44,
   "metadata": {},
   "outputs": [
    {
     "data": {
      "text/plain": [
       "200"
      ]
     },
     "execution_count": 44,
     "metadata": {},
     "output_type": "execute_result"
    }
   ],
   "source": [
    "area1.rectangle()"
   ]
  },
  {
   "cell_type": "code",
   "execution_count": 57,
   "metadata": {},
   "outputs": [],
   "source": [
    "# Other Way to do it\n",
    "class inheritence(Calculator):\n",
    "    num=200\n",
    "    def get_data(self):\n",
    "        return self.num+self.a+self.b+self.minus()\n",
    "obj=inheritence(2,9)    "
   ]
  },
  {
   "cell_type": "code",
   "execution_count": 58,
   "metadata": {},
   "outputs": [
    {
     "data": {
      "text/plain": [
       "204"
      ]
     },
     "execution_count": 58,
     "metadata": {},
     "output_type": "execute_result"
    }
   ],
   "source": [
    "obj.get_data()"
   ]
  },
  {
   "cell_type": "code",
   "execution_count": 59,
   "metadata": {},
   "outputs": [
    {
     "name": "stdout",
     "output_type": "stream",
     "text": [
      "R\n",
      "Rahul\n",
      "Rahul Maurya Delhi.com Delhi\n",
      "Yes\n",
      "['Rahul Maurya Delhi', 'com']\n",
      "Rahul  Maurya\n"
     ]
    }
   ],
   "source": [
    "# String\n",
    "str=\"Rahul Maurya Delhi.com\"\n",
    "print(str[0])\n",
    "print(str[0:5])\n",
    "str1=\"Delhi\"\n",
    "str2=str+\" \"+str1\n",
    "print(str2)\n",
    "str2=\"Delhi\"\n",
    "if str2 in str:\n",
    "    print(\"Yes\")\n",
    "else:\n",
    "    print(\"No\")\n",
    "print(str.split(\".\"))  \n",
    "str4=\"Rahul  Maurya \"\n",
    "print(str4.strip())\n"
   ]
  },
  {
   "cell_type": "code",
   "execution_count": 60,
   "metadata": {},
   "outputs": [
    {
     "data": {
      "text/plain": [
       "'Rahul  Maurya '"
      ]
     },
     "execution_count": 60,
     "metadata": {},
     "output_type": "execute_result"
    }
   ],
   "source": [
    "str4=\"Rahul  Maurya \"\n",
    "str4"
   ]
  },
  {
   "cell_type": "code",
   "execution_count": 61,
   "metadata": {},
   "outputs": [
    {
     "data": {
      "text/plain": [
       "'Rahul  Maurya'"
      ]
     },
     "execution_count": 61,
     "metadata": {},
     "output_type": "execute_result"
    }
   ],
   "source": [
    "str4.strip()"
   ]
  },
  {
   "cell_type": "code",
   "execution_count": 62,
   "metadata": {},
   "outputs": [
    {
     "name": "stdout",
     "output_type": "stream",
     "text": [
      "1 2 3 4 \n"
     ]
    }
   ],
   "source": [
    "# Read text file\n",
    "f=open(\"D:\\\\cv\\\\p.txt\")\n",
    "k=f.read(8) # read n number of word\n",
    "print(k)\n",
    "f.close()\n",
    "\n"
   ]
  },
  {
   "cell_type": "code",
   "execution_count": 63,
   "metadata": {},
   "outputs": [
    {
     "name": "stdout",
     "output_type": "stream",
     "text": [
      "1 2 3 4 5 6 7 8\n",
      "\n",
      "1 lion\n",
      "\n",
      "2 tiger\n",
      "\n",
      "3 dog\n",
      "\n"
     ]
    }
   ],
   "source": [
    "f=open(\"D:\\\\cv\\\\p.txt\")\n",
    "print(f.readline())\n",
    "print(f.readline())\n",
    "print(f.readline())\n",
    "print(f.readline())\n",
    "f.close()\n"
   ]
  },
  {
   "cell_type": "code",
   "execution_count": 64,
   "metadata": {},
   "outputs": [
    {
     "name": "stdout",
     "output_type": "stream",
     "text": [
      "1 2 3 4 5 6 7 8\n",
      "\n",
      "1 lion\n",
      "\n",
      "2 tiger\n",
      "\n",
      "3 dog\n",
      "\n",
      "4 cat\n",
      "\n",
      "5 ant\n",
      "\n",
      "6 elephant\n",
      "\n",
      "7 cow\n",
      "\n"
     ]
    }
   ],
   "source": [
    "f=open(\"D:\\\\cv\\\\p.txt\")\n",
    "for i in range(8): # If you know number of lines\n",
    "    print(f.readline())\n",
    "f.close()    "
   ]
  },
  {
   "cell_type": "code",
   "execution_count": 65,
   "metadata": {},
   "outputs": [
    {
     "name": "stdout",
     "output_type": "stream",
     "text": [
      "1 2 3 4 5 6 7 8\n",
      "\n",
      "1 lion\n",
      "\n",
      "2 tiger\n",
      "\n",
      "3 dog\n",
      "\n",
      "4 cat\n",
      "\n",
      "5 ant\n",
      "\n",
      "6 elephant\n",
      "\n",
      "7 cow\n",
      "\n",
      "8 buffalo\n",
      "\n"
     ]
    }
   ],
   "source": [
    "f=open(\"D:\\\\cv\\\\p.txt\")\n",
    "g=f.readline()\n",
    "while g!=\"\": # when you don't know the number of lines\n",
    "    print(g)\n",
    "    g=f.readline()\n",
    "f.close()    "
   ]
  },
  {
   "cell_type": "code",
   "execution_count": 66,
   "metadata": {},
   "outputs": [
    {
     "name": "stdout",
     "output_type": "stream",
     "text": [
      "['1 2 3 4 5 6 7 8\\n', '1 lion\\n', '2 tiger\\n', '3 dog\\n', '4 cat\\n', '5 ant\\n', '6 elephant\\n', '7 cow\\n', '8 buffalo\\n']\n",
      "1 2 3 4 5 6 7 8\n",
      "\n",
      "1 lion\n",
      "\n",
      "2 tiger\n",
      "\n",
      "3 dog\n",
      "\n",
      "4 cat\n",
      "\n",
      "5 ant\n",
      "\n",
      "6 elephant\n",
      "\n",
      "7 cow\n",
      "\n",
      "8 buffalo\n",
      "\n"
     ]
    }
   ],
   "source": [
    "f=open(\"D:\\\\cv\\\\p.txt\")\n",
    "g=f.readlines()\n",
    "print(g)\n",
    "for i in g:\n",
    "    print(i)\n",
    "f.close()"
   ]
  },
  {
   "cell_type": "code",
   "execution_count": 67,
   "metadata": {},
   "outputs": [],
   "source": [
    "# Write the files\n",
    "with open(\"D:\\\\cv\\\\p.txt\",\"r\") as read:\n",
    "    c=read.readlines()\n",
    "    c.reverse() \n",
    "    with open(\"D:\\\\cv\\\\p1.txt\",\"w\") as write:\n",
    "        for i in c:\n",
    "            write.write(i)\n",
    "        \n",
    "\n",
    "    "
   ]
  },
  {
   "cell_type": "code",
   "execution_count": 57,
   "metadata": {},
   "outputs": [
    {
     "ename": "Exception",
     "evalue": "Value is less",
     "output_type": "error",
     "traceback": [
      "\u001b[1;31m---------------------------------------------------------------------------\u001b[0m",
      "\u001b[1;31mException\u001b[0m                                 Traceback (most recent call last)",
      "\u001b[1;32m<ipython-input-57-121a817c9680>\u001b[0m in \u001b[0;36m<module>\u001b[1;34m\u001b[0m\n\u001b[0;32m      2\u001b[0m \u001b[0mi\u001b[0m\u001b[1;33m=\u001b[0m\u001b[1;36m3\u001b[0m\u001b[1;33m\u001b[0m\u001b[1;33m\u001b[0m\u001b[0m\n\u001b[0;32m      3\u001b[0m \u001b[1;32mif\u001b[0m \u001b[0mi\u001b[0m\u001b[1;33m!=\u001b[0m\u001b[1;36m2\u001b[0m\u001b[1;33m:\u001b[0m\u001b[1;33m\u001b[0m\u001b[1;33m\u001b[0m\u001b[0m\n\u001b[1;32m----> 4\u001b[1;33m     \u001b[1;32mraise\u001b[0m \u001b[0mException\u001b[0m\u001b[1;33m(\u001b[0m\u001b[1;34m\"Value is less\"\u001b[0m\u001b[1;33m)\u001b[0m\u001b[1;33m\u001b[0m\u001b[1;33m\u001b[0m\u001b[0m\n\u001b[0m",
      "\u001b[1;31mException\u001b[0m: Value is less"
     ]
    }
   ],
   "source": [
    "# Exception Handleing \n",
    "i=3\n",
    "if i!=2:\n",
    "    raise Exception(\"Value is less\")"
   ]
  },
  {
   "cell_type": "code",
   "execution_count": 58,
   "metadata": {},
   "outputs": [],
   "source": [
    "# Use pass key word\n",
    "i=3\n",
    "if i!=2:\n",
    "    pass"
   ]
  },
  {
   "cell_type": "code",
   "execution_count": 70,
   "metadata": {},
   "outputs": [
    {
     "ename": "AssertionError",
     "evalue": "",
     "output_type": "error",
     "traceback": [
      "\u001b[1;31m---------------------------------------------------------------------------\u001b[0m",
      "\u001b[1;31mAssertionError\u001b[0m                            Traceback (most recent call last)",
      "\u001b[1;32m<ipython-input-70-3b329f4482b0>\u001b[0m in \u001b[0;36m<module>\u001b[1;34m\u001b[0m\n\u001b[0;32m      1\u001b[0m \u001b[1;31m# Using assert\u001b[0m\u001b[1;33m\u001b[0m\u001b[1;33m\u001b[0m\u001b[1;33m\u001b[0m\u001b[0m\n\u001b[0;32m      2\u001b[0m \u001b[0mi\u001b[0m\u001b[1;33m=\u001b[0m\u001b[1;36m5\u001b[0m\u001b[1;33m\u001b[0m\u001b[1;33m\u001b[0m\u001b[0m\n\u001b[1;32m----> 3\u001b[1;33m \u001b[1;32massert\u001b[0m\u001b[1;33m(\u001b[0m\u001b[0mi\u001b[0m\u001b[1;33m==\u001b[0m\u001b[1;36m7\u001b[0m\u001b[1;33m)\u001b[0m\u001b[1;33m\u001b[0m\u001b[1;33m\u001b[0m\u001b[0m\n\u001b[0m\u001b[0;32m      4\u001b[0m \u001b[0mprint\u001b[0m\u001b[1;33m(\u001b[0m\u001b[1;34m\"y\"\u001b[0m\u001b[1;33m)\u001b[0m\u001b[1;33m\u001b[0m\u001b[1;33m\u001b[0m\u001b[0m\n",
      "\u001b[1;31mAssertionError\u001b[0m: "
     ]
    }
   ],
   "source": [
    "# Using assert \n",
    "i=5\n",
    "assert(i==7)\n",
    "print(\"y\")"
   ]
  },
  {
   "cell_type": "code",
   "execution_count": 71,
   "metadata": {},
   "outputs": [
    {
     "name": "stdout",
     "output_type": "stream",
     "text": [
      "Hey Something Gone Wrong\n"
     ]
    }
   ],
   "source": [
    "# Try And Catch\n",
    "s=123456\n",
    "try:\n",
    "    for i in s:\n",
    "        print(i)\n",
    "except:\n",
    "    print(\"Hey Something Gone Wrong\")"
   ]
  },
  {
   "cell_type": "code",
   "execution_count": 59,
   "metadata": {},
   "outputs": [
    {
     "name": "stdout",
     "output_type": "stream",
     "text": [
      "Something gone wrong plese check\n"
     ]
    }
   ],
   "source": [
    "s=1234\n",
    "try:\n",
    "    for i in s:\n",
    "        print(i)\n",
    "except:\n",
    "    print(\"Something gone wrong plese check\")"
   ]
  },
  {
   "cell_type": "code",
   "execution_count": 72,
   "metadata": {},
   "outputs": [
    {
     "name": "stdout",
     "output_type": "stream",
     "text": [
      "'int' object is not iterable\n"
     ]
    }
   ],
   "source": [
    "# Getting reason of failure\n",
    "s=123456\n",
    "try:\n",
    "    for i in s:\n",
    "        print(i)\n",
    "except Exception as e:\n",
    "    print(e)"
   ]
  },
  {
   "cell_type": "code",
   "execution_count": 73,
   "metadata": {},
   "outputs": [
    {
     "name": "stdout",
     "output_type": "stream",
     "text": [
      "Hey Something Gone Wrong\n",
      "Have a good day\n"
     ]
    }
   ],
   "source": [
    "# finally\n",
    "s=123456\n",
    "try:\n",
    "    for i in s:\n",
    "        print(i)\n",
    "except:\n",
    "    print(\"Hey Something Gone Wrong\")\n",
    "finally:\n",
    "    print(\"Have a good day\") \n"
   ]
  },
  {
   "cell_type": "code",
   "execution_count": 145,
   "metadata": {},
   "outputs": [],
   "source": [
    "# Connecting Selenium with chrome\n",
    "# Starting Automation with web brower\n",
    "from selenium import webdriver\n",
    "driver=webdriver.Chrome(executable_path=\"D:\\\\cv\\\\N\\\\chromedriver.exe\")"
   ]
  },
  {
   "cell_type": "code",
   "execution_count": 75,
   "metadata": {},
   "outputs": [],
   "source": [
    "# Open any link through this\n",
    "driver.get(\"https://www.google.com/\")"
   ]
  },
  {
   "cell_type": "code",
   "execution_count": 76,
   "metadata": {},
   "outputs": [
    {
     "name": "stdout",
     "output_type": "stream",
     "text": [
      "Google\n"
     ]
    }
   ],
   "source": [
    "# Code to get tittle of a web page\n",
    "print(driver.title)"
   ]
  },
  {
   "cell_type": "code",
   "execution_count": 77,
   "metadata": {},
   "outputs": [
    {
     "name": "stdout",
     "output_type": "stream",
     "text": [
      "https://www.google.com/\n"
     ]
    }
   ],
   "source": [
    "# Get current URL\n",
    "print(driver.current_url)"
   ]
  },
  {
   "cell_type": "code",
   "execution_count": 78,
   "metadata": {},
   "outputs": [],
   "source": [
    "# Opening another URL\n",
    "driver.get(\"https://www.google.com/search?q=omicron&oq=omi&aqs=chrome.0.69i59j69i57.2170j0j7&sourceid=chrome&ie=UTF-8\")"
   ]
  },
  {
   "cell_type": "code",
   "execution_count": 79,
   "metadata": {},
   "outputs": [],
   "source": [
    "# Going back to previous page\n",
    "driver.back()"
   ]
  },
  {
   "cell_type": "code",
   "execution_count": 80,
   "metadata": {},
   "outputs": [],
   "source": [
    "# Refresh the page\n",
    "driver.refresh()"
   ]
  },
  {
   "cell_type": "code",
   "execution_count": 81,
   "metadata": {},
   "outputs": [],
   "source": [
    "# Minimize the browser\n",
    "driver.minimize_window()"
   ]
  },
  {
   "cell_type": "code",
   "execution_count": 82,
   "metadata": {},
   "outputs": [],
   "source": [
    "# Maximize the browser\n",
    "#driver.maximize_window()"
   ]
  },
  {
   "cell_type": "code",
   "execution_count": 83,
   "metadata": {},
   "outputs": [],
   "source": [
    "# Webdriver Locators\n"
   ]
  },
  {
   "cell_type": "code",
   "execution_count": 84,
   "metadata": {},
   "outputs": [],
   "source": [
    "driver.get(\"https://rahulshettyacademy.com/angularpractice/\")"
   ]
  },
  {
   "cell_type": "code",
   "execution_count": 85,
   "metadata": {},
   "outputs": [],
   "source": [
    "# Find elements of form using inspect and reach to that element and fill value into it\n",
    "#driver.find_element_by_name(\"name\").send_keys(\"Rahul Maurya\") # name is not unique value filled in two element\n",
    "driver.find_element_by_name(\"email\").send_keys(\"rahulmaurya1997@gmail.com\")\n",
    "driver.find_element_by_id(\"exampleInputPassword1\").send_keys(\"12345678\")"
   ]
  },
  {
   "cell_type": "code",
   "execution_count": 86,
   "metadata": {},
   "outputs": [],
   "source": [
    "# Fill check box in form\n",
    "driver.find_element_by_id(\"exampleCheck1\").click()"
   ]
  },
  {
   "cell_type": "code",
   "execution_count": 87,
   "metadata": {},
   "outputs": [],
   "source": [
    "# Fill form using CSS \n",
    "# $(\"input[name='name']\") check in console next to inspect in chrome if your css result is correct it give result"
   ]
  },
  {
   "cell_type": "code",
   "execution_count": 88,
   "metadata": {},
   "outputs": [],
   "source": [
    "# Fill form using CSS \n",
    "driver.find_element_by_css_selector(\"input[name='name']\").send_keys(\"Rahul Maurya\") # still it entering the name in two place"
   ]
  },
  {
   "cell_type": "code",
   "execution_count": 89,
   "metadata": {},
   "outputs": [],
   "source": [
    "# fill frm using Xpath and submit form\n",
    "# $x(\"//input[@type='submit']\") check in console next to inspect in chrome if your css result is correct it give result"
   ]
  },
  {
   "cell_type": "code",
   "execution_count": 90,
   "metadata": {},
   "outputs": [],
   "source": [
    "# fill frm using Xpath and submit form\n",
    "# This path can be generate throgh chrome path to\n",
    "#driver.find_element_by_xpath(\"//input[@type='submit']\").click()"
   ]
  },
  {
   "cell_type": "code",
   "execution_count": 91,
   "metadata": {},
   "outputs": [],
   "source": [
    "# xpath generated by chropath extension\n",
    "driver.find_element_by_xpath(\"//body/app-root[1]/form-comp[1]/div[1]/form[1]/input[1]\").click()"
   ]
  },
  {
   "cell_type": "code",
   "execution_count": 92,
   "metadata": {},
   "outputs": [],
   "source": [
    "# Closeing the browser\n",
    "#driver.close()"
   ]
  },
  {
   "cell_type": "code",
   "execution_count": 93,
   "metadata": {},
   "outputs": [
    {
     "name": "stdout",
     "output_type": "stream",
     "text": [
      "×\n",
      "Success! The Form has been submitted successfully!.\n"
     ]
    }
   ],
   "source": [
    "# To check pop up appear correct or not\n",
    "print(driver.find_element_by_class_name(\"alert-success\").text)"
   ]
  },
  {
   "cell_type": "code",
   "execution_count": 94,
   "metadata": {},
   "outputs": [],
   "source": [
    "#driver.find_element_by_xpath(\"//body/app-root[1]/form-comp[1]/div[1]/div[1]/div[1]\").text # giving wrong text."
   ]
  },
  {
   "cell_type": "code",
   "execution_count": 95,
   "metadata": {},
   "outputs": [],
   "source": [
    "# opening sales force login page\n",
    "driver.get(\"https://login.salesforce.com/?locale=in\")"
   ]
  },
  {
   "cell_type": "code",
   "execution_count": 96,
   "metadata": {},
   "outputs": [],
   "source": [
    "# Filling the user name\n",
    "#driver.find_element_by_id(\"username\").send_keys(\"Rahul Maurya\")\n",
    "#driver.find_element_by_id(\"password\").send_keys(\"12345678\")"
   ]
  },
  {
   "cell_type": "code",
   "execution_count": 97,
   "metadata": {},
   "outputs": [],
   "source": [
    "# Filling the user name by css\n",
    "driver.find_element_by_css_selector(\"#username\").send_keys(\"Rahul Maurya\")\n",
    "driver.find_element_by_css_selector(\"#password\").send_keys(\"12345678\")"
   ]
  },
  {
   "cell_type": "code",
   "execution_count": 98,
   "metadata": {},
   "outputs": [],
   "source": [
    "# Clear the input filled by css\n",
    "driver.find_element_by_css_selector(\"#username\").clear()\n",
    "driver.find_element_by_css_selector(\"#password\").clear()"
   ]
  },
  {
   "cell_type": "code",
   "execution_count": 99,
   "metadata": {},
   "outputs": [],
   "source": [
    "# See the links avilable working or not\n",
    "driver.find_element_by_link_text(\"Forgot Your Password?\").click()"
   ]
  },
  {
   "cell_type": "code",
   "execution_count": 100,
   "metadata": {},
   "outputs": [],
   "source": [
    "# Going back by cancel button\n",
    "driver.find_element_by_xpath(\"//body/div[@id='wrap']/div[@id='main']/div[@id='wrapper']/div[@id='content']/form[@id='forgotPassForm']/div[1]/input[3]\").click()"
   ]
  },
  {
   "cell_type": "code",
   "execution_count": 101,
   "metadata": {},
   "outputs": [],
   "source": [
    "# Reaching login button by xpath\n",
    "driver.find_element_by_xpath(\"//input[@id='Login']\").click()"
   ]
  },
  {
   "cell_type": "code",
   "execution_count": 102,
   "metadata": {},
   "outputs": [],
   "source": [
    "# Opening the link\n",
    "driver.get(\"https://rahulshettyacademy.com/angularpractice/\")"
   ]
  },
  {
   "cell_type": "code",
   "execution_count": 103,
   "metadata": {},
   "outputs": [
    {
     "data": {
      "text/plain": [
       "'https://rahulshettyacademy.com/angularpractice/'"
      ]
     },
     "execution_count": 103,
     "metadata": {},
     "output_type": "execute_result"
    }
   ],
   "source": [
    "# Checking the current url\n",
    "driver.current_url"
   ]
  },
  {
   "cell_type": "code",
   "execution_count": 104,
   "metadata": {},
   "outputs": [],
   "source": [
    "# Filling value in static or fixed dropdown\n",
    "from selenium.webdriver.support.ui import Select\n",
    "dropdown=Select(driver.find_element_by_id(\"exampleFormControlSelect1\"))\n",
    "dropdown.select_by_visible_text(\"Male\") # Fill by visiable text\n",
    "dropdown.select_by_index(0) # Fill by number"
   ]
  },
  {
   "cell_type": "code",
   "execution_count": 105,
   "metadata": {},
   "outputs": [],
   "source": [
    "# opening sales force login page\n",
    "driver.get(\"https://login.salesforce.com/?locale=in\")"
   ]
  },
  {
   "cell_type": "code",
   "execution_count": 106,
   "metadata": {},
   "outputs": [
    {
     "data": {
      "text/plain": [
       "'Username'"
      ]
     },
     "execution_count": 106,
     "metadata": {},
     "output_type": "execute_result"
    }
   ],
   "source": [
    "# Getting written text by xpath\n",
    "driver.find_element_by_xpath(\"//label[contains(text(),'Username')]\").text"
   ]
  },
  {
   "cell_type": "code",
   "execution_count": 107,
   "metadata": {},
   "outputs": [
    {
     "data": {
      "text/plain": [
       "'Password'"
      ]
     },
     "execution_count": 107,
     "metadata": {},
     "output_type": "execute_result"
    }
   ],
   "source": [
    "# Getting written text by xpath\n",
    "driver.find_element_by_xpath(\"//label[contains(text(),'Password')]\").text"
   ]
  },
  {
   "cell_type": "code",
   "execution_count": 108,
   "metadata": {},
   "outputs": [],
   "source": [
    "# Opening the link\n",
    "driver.get(\"https://rahulshettyacademy.com/angularpractice/\")"
   ]
  },
  {
   "cell_type": "code",
   "execution_count": 109,
   "metadata": {},
   "outputs": [],
   "source": [
    "# Using assert to verify test\n",
    "driver.find_element_by_xpath(\"//body/app-root[1]/form-comp[1]/div[1]/form[1]/input[1]\").click()\n",
    "m=(driver.find_element_by_class_name(\"alert-success\").text)\n",
    "assert \"Success\" in m\n"
   ]
  },
  {
   "cell_type": "code",
   "execution_count": 110,
   "metadata": {},
   "outputs": [
    {
     "ename": "AssertionError",
     "evalue": "",
     "output_type": "error",
     "traceback": [
      "\u001b[1;31m---------------------------------------------------------------------------\u001b[0m",
      "\u001b[1;31mAssertionError\u001b[0m                            Traceback (most recent call last)",
      "\u001b[1;32m<ipython-input-110-232d015fcaf9>\u001b[0m in \u001b[0;36m<module>\u001b[1;34m\u001b[0m\n\u001b[0;32m      2\u001b[0m \u001b[0mdriver\u001b[0m\u001b[1;33m.\u001b[0m\u001b[0mfind_element_by_xpath\u001b[0m\u001b[1;33m(\u001b[0m\u001b[1;34m\"//body/app-root[1]/form-comp[1]/div[1]/form[1]/input[1]\"\u001b[0m\u001b[1;33m)\u001b[0m\u001b[1;33m.\u001b[0m\u001b[0mclick\u001b[0m\u001b[1;33m(\u001b[0m\u001b[1;33m)\u001b[0m\u001b[1;33m\u001b[0m\u001b[1;33m\u001b[0m\u001b[0m\n\u001b[0;32m      3\u001b[0m \u001b[0mm\u001b[0m\u001b[1;33m=\u001b[0m\u001b[1;33m(\u001b[0m\u001b[0mdriver\u001b[0m\u001b[1;33m.\u001b[0m\u001b[0mfind_element_by_class_name\u001b[0m\u001b[1;33m(\u001b[0m\u001b[1;34m\"alert-success\"\u001b[0m\u001b[1;33m)\u001b[0m\u001b[1;33m.\u001b[0m\u001b[0mtext\u001b[0m\u001b[1;33m)\u001b[0m\u001b[1;33m\u001b[0m\u001b[1;33m\u001b[0m\u001b[0m\n\u001b[1;32m----> 4\u001b[1;33m \u001b[1;32massert\u001b[0m \u001b[1;34m\"Subbccess\"\u001b[0m \u001b[1;32min\u001b[0m \u001b[0mm\u001b[0m \u001b[1;31m# Stop due to assert error\u001b[0m\u001b[1;33m\u001b[0m\u001b[1;33m\u001b[0m\u001b[0m\n\u001b[0m",
      "\u001b[1;31mAssertionError\u001b[0m: "
     ]
    }
   ],
   "source": [
    "# Using assert to verify test\n",
    "driver.find_element_by_xpath(\"//body/app-root[1]/form-comp[1]/div[1]/form[1]/input[1]\").click()\n",
    "m=(driver.find_element_by_class_name(\"alert-success\").text)\n",
    "assert \"Subbccess\" in m # Stop due to assert error\n"
   ]
  },
  {
   "cell_type": "code",
   "execution_count": 111,
   "metadata": {},
   "outputs": [],
   "source": [
    "# Handleing auto-suggestive drop\n",
    "#driver.get(\"https://www.makemytrip.com/\")"
   ]
  },
  {
   "cell_type": "code",
   "execution_count": 112,
   "metadata": {},
   "outputs": [],
   "source": [
    "# Clicking the drop down box\n",
    "#driver.find_element_by_xpath(\"//span[contains(text(),'From')]\").click()"
   ]
  },
  {
   "cell_type": "code",
   "execution_count": 113,
   "metadata": {},
   "outputs": [],
   "source": [
    "# Sending del to search box\n",
    "#driver.find_element_by_xpath(\"//body/div[@id='root']/div[1]/div[2]/div[1]/div[1]/div[2]/div[1]/div[1]/div[1]/div[1]/div[1]/div[1]/input[1]\").send_keys(\"del\")"
   ]
  },
  {
   "cell_type": "code",
   "execution_count": 114,
   "metadata": {},
   "outputs": [],
   "source": [
    "# Getting all value match with del using regular expression\n",
    "#c=driver.find_elements_by_css_selector(\"p[class*='blackText']\")"
   ]
  },
  {
   "cell_type": "code",
   "execution_count": 115,
   "metadata": {},
   "outputs": [],
   "source": [
    "# Display list where del is there in regular expression\n",
    "#for i in c:\n",
    "    #print(i.text)"
   ]
  },
  {
   "cell_type": "code",
   "execution_count": 116,
   "metadata": {},
   "outputs": [],
   "source": [
    "# Chooseing Del Rio, United States from the above list\n",
    "#for k in c:\n",
    "    #if k.text==\"Del Rio, United States\":\n",
    "        #k.click()\n",
    "        #break"
   ]
  },
  {
   "cell_type": "code",
   "execution_count": 117,
   "metadata": {},
   "outputs": [],
   "source": [
    "# Select other drop down box\n",
    "#driver.find_element_by_xpath(\"//body/div[@id='root']/div[1]/div[2]/div[1]/div[1]/div[2]/div[1]/div[2]/label[1]/span[1]\").click()"
   ]
  },
  {
   "cell_type": "code",
   "execution_count": 118,
   "metadata": {},
   "outputs": [],
   "source": [
    "# Sending value to drop down box\n",
    "#driver.find_element_by_xpath(\"//body/div[@id='root']/div[1]/div[2]/div[1]/div[1]/div[2]/div[1]/div[2]/div[1]/div[1]/div[1]/div[1]/input[1]\").send_keys(\"del\")"
   ]
  },
  {
   "cell_type": "code",
   "execution_count": 119,
   "metadata": {},
   "outputs": [],
   "source": [
    "# Select Delhi by using xpath this make simple or use above method\n",
    "#driver.find_element_by_xpath(\"//p[contains(text(),'New Delhi, India')]\").click()"
   ]
  },
  {
   "cell_type": "code",
   "execution_count": 120,
   "metadata": {},
   "outputs": [],
   "source": [
    "# Display the count of work matching with del\n",
    "#print(len(c))"
   ]
  },
  {
   "cell_type": "code",
   "execution_count": 121,
   "metadata": {},
   "outputs": [],
   "source": [
    "#d=driver.find_elements_by_css_selector(\"p[class*='blackText']\")"
   ]
  },
  {
   "cell_type": "code",
   "execution_count": 122,
   "metadata": {},
   "outputs": [],
   "source": [
    "#for j in d:\n",
    "    #if j.text==\"New Delhi, India\":\n",
    "        #j.click()\n",
    "        #break\n",
    "    "
   ]
  },
  {
   "cell_type": "code",
   "execution_count": 123,
   "metadata": {},
   "outputs": [],
   "source": [
    "# Display number of search related to c\n",
    "#print(len(c))"
   ]
  },
  {
   "cell_type": "code",
   "execution_count": 127,
   "metadata": {},
   "outputs": [],
   "source": [
    "# Opening new link\n",
    "driver.get(\"https://rahulshettyacademy.com/AutomationPractice/\")"
   ]
  },
  {
   "cell_type": "code",
   "execution_count": 128,
   "metadata": {},
   "outputs": [
    {
     "name": "stdout",
     "output_type": "stream",
     "text": [
      "3 Checkbox avilable\n"
     ]
    }
   ],
   "source": [
    "# Clicking multiple checkbox at once\n",
    "c=driver.find_elements_by_xpath(\"//input[@type='checkbox']\") # type is common so we use type\n",
    "for i in c:\n",
    "    i.click()\n",
    "print(len(c),\"Checkbox avilable\")    "
   ]
  },
  {
   "cell_type": "code",
   "execution_count": 129,
   "metadata": {},
   "outputs": [],
   "source": [
    "# Clicking radio button\n",
    "driver.find_element_by_xpath(\"//body/div[1]/div[1]/fieldset[1]/label[1]/input[1]\").click() # Click radio button 1\n",
    "driver.find_element_by_xpath(\"//body/div[1]/div[1]/fieldset[1]/label[2]/input[1]\").click() # Click radio button 2\n",
    "driver.find_element_by_xpath(\"//body/div[1]/div[1]/fieldset[1]/label[3]/input[1]\").click() # Click radio button 3\n",
    "# Not possible to select all as it is radio button\n"
   ]
  },
  {
   "cell_type": "code",
   "execution_count": 130,
   "metadata": {},
   "outputs": [
    {
     "name": "stdout",
     "output_type": "stream",
     "text": [
      "Hello option 3, share this practice page and share your knowledge\n"
     ]
    }
   ],
   "source": [
    "# Handle Java alert which come as pop up when we accept the pop up\n",
    "driver.find_element_by_xpath(\"//input[@id='name']\").send_keys(\"option 3\")\n",
    "driver.find_element_by_xpath(\"//input[@id='alertbtn']\").click()\n",
    "c=driver.switch_to.alert\n",
    "print(c.text)\n",
    "c.accept() # If you want to accept or ok\n",
    "#c.dismiss() # if you do not want to accept or just want to cancel"
   ]
  },
  {
   "cell_type": "code",
   "execution_count": 131,
   "metadata": {},
   "outputs": [
    {
     "name": "stdout",
     "output_type": "stream",
     "text": [
      "Hello option 3, Are you sure you want to confirm?\n"
     ]
    }
   ],
   "source": [
    "# Handle Java alert which come as pop up when we do accept the pop up\n",
    "driver.find_element_by_xpath(\"//input[@id='name']\").send_keys(\"option 3\")\n",
    "driver.find_element_by_xpath(\"//input[@id='confirmbtn']\").click()\n",
    "c=driver.switch_to.alert\n",
    "print(c.text)\n",
    "c.dismiss()\n",
    "\n"
   ]
  },
  {
   "cell_type": "code",
   "execution_count": 132,
   "metadata": {},
   "outputs": [],
   "source": [
    "# Openting the url\n",
    "driver.get(\"https://rahulshettyacademy.com/seleniumPractise/#/\")"
   ]
  },
  {
   "cell_type": "code",
   "execution_count": 133,
   "metadata": {},
   "outputs": [
    {
     "name": "stdout",
     "output_type": "stream",
     "text": [
      "['Cucumber - 1 Kg', 'Raspberry - 1/4 Kg', 'Strawberry - 1/4 Kg']\n",
      "['Cucumber - 1 Kg', 'Raspberry - 1/4 Kg', 'Strawberry - 1/4 Kg']\n",
      "Total amount = 388\n",
      "Code applied ..!\n",
      "Total amount before discount = 388\n",
      "Total amount after discount = 349.2\n",
      "Discount Percent = 10%\n",
      "True\n",
      "Search List Is Working Fine\n"
     ]
    }
   ],
   "source": [
    "# Deal with data which appear after some time after clicking or dealing with weight\n",
    "# Implict wait driver.implict(5) every line after five second\n",
    "# Explicit wait driver.explict(5) line wait 5 second same as time.sleep(5) in this you can put some condition...\n",
    "# ..if the condition match then it can go before 5 second else max wait 5 second then it fail\n",
    "# Good to use time.sleep() or explict wait\n",
    "# pause the test for some sec using Time class\n",
    "driver.find_element_by_xpath(\"//header/div[1]/div[2]/form[1]/input[1]\").send_keys(\"ber\")\n",
    "import time\n",
    "time.sleep(4) \n",
    "driver.find_elements_by_xpath(\"//div[@class='products']/div\")\n",
    "c=driver.find_elements_by_xpath(\"//h4[@class='product-name']\")\n",
    "l1=[]\n",
    "for i in c:\n",
    "    l1.append(i.text)\n",
    "print(l1)    \n",
    "#print(len(driver.find_elements_by_xpath(\"//div[@class='products']/div\")))\n",
    "c=driver.find_elements_by_xpath(\"//div[@class='product-action']/button\")\n",
    "for i in c:\n",
    "    i.click()\n",
    "driver.find_element_by_xpath(\"//body[1]/div[1]/div[1]/header[1]/div[1]/div[3]/a[4]/img[1]\").click()\n",
    "driver.find_element_by_xpath(\"//button[contains(text(),'PROCEED TO CHECKOUT')]\").click()\n",
    "time.sleep(4)\n",
    "c=driver.find_elements_by_xpath(\"//p[@class='product-name']\")\n",
    "l2=[]\n",
    "for i in c:\n",
    "    l2.append(i.text)\n",
    "print(l2) \n",
    "price_list=[]\n",
    "c=driver.find_elements_by_xpath(\"//p[@class='amount']\")\n",
    "for i in c:\n",
    "    price_list.append(int(i.text))\n",
    "#print(price_list)\n",
    "Total=sum(price_list[1::2])\n",
    "print(\"Total amount =\",Total)\n",
    "driver.find_element_by_xpath(\"//input[@type='text']\").click()\n",
    "driver.find_element_by_xpath(\"//input[@type='text']\").send_keys(\"rahulshettyacademy\")\n",
    "driver.find_element_by_xpath(\"//button[@class='promoBtn']\").click()\n",
    "time.sleep(8)\n",
    "c=driver.find_element_by_xpath(\"//span[contains(text(),'Code applied ..!')]\")\n",
    "print(c.text)\n",
    "c=driver.find_element_by_xpath(\"//span[@class='totAmt']\")\n",
    "print(\"Total amount before discount =\",c.text)\n",
    "c=driver.find_element_by_xpath(\"//span[@class='discountAmt']\")\n",
    "print(\"Total amount after discount =\",c.text)\n",
    "c=driver.find_element_by_xpath(\"//span[@class='discountPerc']\")\n",
    "print(\"Discount Percent =\",c.text)\n",
    "driver.find_element_by_xpath(\"//button[contains(text(),'Place Order')]\").click()\n",
    "dropdown=Select(driver.find_element_by_xpath(\"//select[@style='width: 200px;']\"))\n",
    "dropdown.select_by_visible_text(\"India\") # Fill by visiable text in list\n",
    "driver.find_element_by_xpath(\"//input[@type='checkbox']\").click()\n",
    "driver.find_element_by_xpath(\"//button[contains(text(),'Proceed')]\").click()\n",
    "print(l1==l2)\n",
    "search_list=[]\n",
    "for i in l1:\n",
    "    if \"ber\" in i:\n",
    "        search_list.append(1)\n",
    "if len(search_list) == len(l1):\n",
    "    print(\"Search List Is Working Fine\")\n",
    "else:\n",
    "    print(\"There Is Some Problem In Search List\")"
   ]
  },
  {
   "cell_type": "code",
   "execution_count": 134,
   "metadata": {},
   "outputs": [],
   "source": [
    "# How to handle child windows \n",
    "# Opening the new link\n",
    "#driver=webdriver.Chrome(executable_path=\"D:\\\\cv\\\\N\\\\chromedriver.exe\")\n",
    "driver.get(\"https://the-internet.herokuapp.com/windows\")"
   ]
  },
  {
   "cell_type": "code",
   "execution_count": 135,
   "metadata": {},
   "outputs": [
    {
     "name": "stdout",
     "output_type": "stream",
     "text": [
      "New Window\n",
      "Opening a new window\n"
     ]
    }
   ],
   "source": [
    "# Open the new tab and handle it\n",
    "driver.find_element_by_xpath(\"//a[@href='/windows/new']\").click()\n",
    "c=driver.window_handles[1] # Parent window have Id 0\n",
    "driver.switch_to.window(c)\n",
    "c=driver.find_element_by_tag_name(\"h3\")\n",
    "print(c.text)\n",
    "driver.close()\n",
    "c=driver.window_handles[0]\n",
    "driver.switch_to.window(c)\n",
    "c=driver.find_element_by_tag_name(\"h3\")\n",
    "print(c.text)\n"
   ]
  },
  {
   "cell_type": "code",
   "execution_count": 136,
   "metadata": {},
   "outputs": [],
   "source": [
    "# Handle frames \n",
    "# Opening the link\n",
    "driver.get(\"https://the-internet.herokuapp.com/iframe\")"
   ]
  },
  {
   "cell_type": "code",
   "execution_count": 137,
   "metadata": {},
   "outputs": [],
   "source": [
    "# iframe, frameset, frame, frames cannot be edit directly\n",
    "#driver.find_element_by_tag_name(\"p\").clear()"
   ]
  },
  {
   "cell_type": "code",
   "execution_count": 138,
   "metadata": {},
   "outputs": [
    {
     "name": "stdout",
     "output_type": "stream",
     "text": [
      "Hey, I Want To Automate\n",
      "An iFrame containing the TinyMCE WYSIWYG Editor\n"
     ]
    }
   ],
   "source": [
    "# Dealing with frame\n",
    "# We need frame name or index value\n",
    "driver.switch_to.frame(\"mce_0_ifr\") # Giving frame Id\n",
    "driver.find_element_by_tag_name(\"p\").clear()\n",
    "driver.find_element_by_tag_name(\"p\").send_keys(\"Hey, I Want To Automate\")\n",
    "print(driver.find_element_by_tag_name(\"p\").text)\n",
    "time.sleep(2)\n",
    "driver.switch_to.default_content() # Getting out of frame\n",
    "print(driver.find_element_by_tag_name(\"h3\").text)"
   ]
  },
  {
   "cell_type": "code",
   "execution_count": 139,
   "metadata": {},
   "outputs": [],
   "source": [
    "# Advance interaction with browser elements\n",
    "# Opeing the link\n",
    "driver.get(\"https://www.google.com/\")"
   ]
  },
  {
   "cell_type": "code",
   "execution_count": 140,
   "metadata": {},
   "outputs": [],
   "source": [
    "#from selenium.webdriver import ActionChains\n",
    "#action=ActionChains(driver)\n",
    "#driver.find_element_by_xpath(\"//input[@class='gLFyf gsfi']\").send_keys(\"python\")\n",
    "#time.sleep(2)\n",
    "#action.move_to_element(driver.find_element_by_xpath(\"//input[@name='btnK']\")).perform()\n",
    "#time.sleep(2)\n",
    "#action.move_to_element(driver.find_element_by_xpath(\"//span[@xpath='1']\")).click().perform()\n",
    "\n"
   ]
  },
  {
   "cell_type": "code",
   "execution_count": 142,
   "metadata": {},
   "outputs": [],
   "source": [
    "# Dealing with double click\n",
    "#opening the link\n",
    "#driver.get(\"https://chercher.tech/practice/practice-pop-ups-selenium-webdriver\")"
   ]
  },
  {
   "cell_type": "code",
   "execution_count": 143,
   "metadata": {},
   "outputs": [],
   "source": [
    "#action.double_click(driver.find_element_by_id(\"double-click\")).click().perform()"
   ]
  },
  {
   "cell_type": "code",
   "execution_count": 147,
   "metadata": {},
   "outputs": [],
   "source": [
    "# Handle element displayed and hide examples\n",
    "#opening the link\n",
    "driver.get(\"https://rahulshettyacademy.com/AutomationPractice/\")"
   ]
  },
  {
   "cell_type": "code",
   "execution_count": 148,
   "metadata": {},
   "outputs": [
    {
     "name": "stdout",
     "output_type": "stream",
     "text": [
      "True\n"
     ]
    },
    {
     "data": {
      "text/plain": [
       "False"
      ]
     },
     "execution_count": 148,
     "metadata": {},
     "output_type": "execute_result"
    }
   ],
   "source": [
    "# If element is displayed\n",
    "print(driver.find_element_by_xpath(\"//input[@id='displayed-text']\").is_displayed())\n",
    "driver.find_element_by_id(\"hide-textbox\").click() # This will hide the element\n",
    "driver.find_element_by_xpath(\"//input[@id='displayed-text']\").is_displayed()"
   ]
  },
  {
   "cell_type": "code",
   "execution_count": 149,
   "metadata": {},
   "outputs": [],
   "source": [
    "# How to use java script DOM\n",
    "# Opening the link\n",
    "driver.get(\"https://rahulshettyacademy.com/angularpractice/\")"
   ]
  },
  {
   "cell_type": "code",
   "execution_count": 150,
   "metadata": {},
   "outputs": [
    {
     "name": "stdout",
     "output_type": "stream",
     "text": [
      "\n",
      "Rahul Maurya\n"
     ]
    }
   ],
   "source": [
    "# Using get_attribute() method to read text\n",
    "driver.find_element_by_xpath(\"//input[@minlength='2']\").send_keys(\"Rahul Maurya\")\n",
    "print(driver.find_element_by_xpath(\"//input[@minlength='2']\").text) # Not printing any text\n",
    "print(driver.find_element_by_xpath(\"//input[@minlength='2']\").get_attribute(\"value\")) # now printing the text\n",
    "driver.find_element_by_xpath(\"//a[contains(text(),'Shop')]\").click()"
   ]
  },
  {
   "cell_type": "code",
   "execution_count": 151,
   "metadata": {},
   "outputs": [],
   "source": [
    "driver.execute_script(\"window.scrollTo(0, document.body.scrollHeight);\") # Scroll down using java script method"
   ]
  },
  {
   "cell_type": "code",
   "execution_count": 152,
   "metadata": {},
   "outputs": [],
   "source": [
    "# How to handle chrome options\n",
    "# Search many chrome options on google\n",
    "chrome=webdriver.ChromeOptions()\n",
    "driver=webdriver.Chrome(executable_path=\"D:\\\\cv\\\\N\\\\chromedriver.exe\",options=chrome)"
   ]
  },
  {
   "cell_type": "code",
   "execution_count": 153,
   "metadata": {},
   "outputs": [],
   "source": [
    "chrome.add_argument(\"headless\")"
   ]
  },
  {
   "cell_type": "code",
   "execution_count": 154,
   "metadata": {},
   "outputs": [],
   "source": [
    "driver.get(\"https://rahulshettyacademy.com/angularpractice/\")"
   ]
  },
  {
   "cell_type": "code",
   "execution_count": 155,
   "metadata": {},
   "outputs": [
    {
     "data": {
      "text/plain": [
       "'ProtoCommerce'"
      ]
     },
     "execution_count": 155,
     "metadata": {},
     "output_type": "execute_result"
    }
   ],
   "source": [
    "driver.title"
   ]
  },
  {
   "cell_type": "code",
   "execution_count": 156,
   "metadata": {},
   "outputs": [],
   "source": [
    "chrome.add_argument(\"--disable-extensions\") # Diable all extenstion and back to normal"
   ]
  },
  {
   "cell_type": "code",
   "execution_count": 157,
   "metadata": {},
   "outputs": [],
   "source": [
    "#driver.close()"
   ]
  },
  {
   "cell_type": "code",
   "execution_count": 162,
   "metadata": {},
   "outputs": [],
   "source": [
    "#driver=webdriver.Chrome(executable_path=\"D:\\\\cv\\\\N\\\\chromedriver.exe\") \n",
    "driver.get(\"https://rahulshettyacademy.com/angularpractice/\")"
   ]
  },
  {
   "cell_type": "code",
   "execution_count": 163,
   "metadata": {},
   "outputs": [],
   "source": [
    "driver.find_element_by_xpath(\"//a[contains(text(),'Shop')]\").click()\n",
    "driver.find_element_by_xpath(\"//body/app-root[1]/app-shop[1]/div[1]/div[1]/div[2]/app-card-list[1]/app-card[4]/div[1]/div[2]/button[1]\").click()\n",
    "driver.find_element_by_xpath(\"//a[@class='nav-link btn btn-primary']\").click()\n",
    "import time\n",
    "driver.find_element_by_xpath(\"//button[@class='btn btn-success']\").click()"
   ]
  },
  {
   "cell_type": "code",
   "execution_count": 164,
   "metadata": {},
   "outputs": [],
   "source": [
    "driver.find_element_by_xpath(\"//input[@id='country']\").send_keys(\"India\")"
   ]
  },
  {
   "cell_type": "code",
   "execution_count": 165,
   "metadata": {},
   "outputs": [],
   "source": [
    "time.sleep(6)\n",
    "driver.find_element_by_xpath(\"//a[contains(text(),'India')]\").click()"
   ]
  },
  {
   "cell_type": "code",
   "execution_count": 166,
   "metadata": {},
   "outputs": [
    {
     "name": "stdout",
     "output_type": "stream",
     "text": [
      "×\n",
      "Success! Thank you! Your order will be delivered in next few weeks :-).\n"
     ]
    }
   ],
   "source": [
    "driver.find_element_by_xpath(\"//body/app-root[1]/app-shop[1]/div[1]/app-checkout[1]/div[1]/div[2]/label[1]\").click()\n",
    "driver.find_element_by_xpath(\"//input[@class='btn btn-success btn-lg']\").click()\n",
    "print(driver.find_element_by_xpath(\"//div[@class='alert alert-success alert-dismissible']\").text)"
   ]
  },
  {
   "cell_type": "code",
   "execution_count": 169,
   "metadata": {},
   "outputs": [
    {
     "name": "stdout",
     "output_type": "stream",
     "text": [
      "True\n"
     ]
    }
   ],
   "source": [
    "# driver.get_screenshot_as_file(\"D:\\\\1.png\") # Help to take screenshot"
   ]
  },
  {
   "cell_type": "code",
   "execution_count": 202,
   "metadata": {},
   "outputs": [],
   "source": [
    "# Python framework"
   ]
  },
  {
   "cell_type": "code",
   "execution_count": 213,
   "metadata": {},
   "outputs": [],
   "source": [
    "# pytest need to refer another notebook name as test_pytest link (http://localhost:8888/notebooks/Desktop/edureka/test_pytest.ipynb)"
   ]
  },
  {
   "cell_type": "code",
   "execution_count": 146,
   "metadata": {},
   "outputs": [],
   "source": [
    "import time\n",
    "driver.get(\"https://www.amazon.in/\")\n",
    "driver.find_element_by_xpath(\"//input[@id='twotabsearchtextbox']\").send_keys(\"watch for men\")\n",
    "driver.find_element_by_xpath(\"//input[@id='nav-search-submit-button']\").click()"
   ]
  },
  {
   "cell_type": "code",
   "execution_count": 147,
   "metadata": {},
   "outputs": [
    {
     "name": "stdout",
     "output_type": "stream",
     "text": [
      "Item avilable with their price\n",
      "[('AUREX', '575'), ('REDUX', '329'), ('Sylvi', '621'), ('VILLS LAURRENS', '352'), ('TIMEWEAR', '339'), ('REDUX', '329'), ('TIMEWEAR', '699'), ('Acnos', '355'), ('VILLS LAURRENS', '352'), ('PIRASO', '299'), ('TIMEWEAR', '359'), ('TIMEX', '1,095'), ('Decode', '289'), ('SWISSTYLE', '368'), ('VILLS LAURRENS', '352'), ('Espoir', '246'), ('SWISSTYLE', '359'), ('Shocknshop', '299'), ('LOUIS DEVIN', '369'), ('REDUX', '329'), ('Amazon Brand - Symbol', '519'), ('Amazon Brand - Symbol', '506'), ('Amazon Brand - Symbol', '319'), ('', ''), ('', ''), ('', ''), ('', ''), ('', ''), ('Britex', '252'), ('REDUX', '329'), ('REDUX', '329'), ('Sylvi', '1,049'), ('Shocknshop', '499'), ('REDUX', '399'), ('Acnos', '355'), ('Fastrack', '279'), ('Hemt', '436'), ('Emartos', '499'), ('RUSTET', '855'), ('Fastrack', '336'), ('LORENZ', '379'), ('TIMEWEAR', '1,090'), ('V2A', '699'), ('SKMEI', '375'), ('SELLORIA', '479'), ('LORENZ', '479'), ('LORENZ', '285'), ('Goldenize fashion', '499'), ('CURREN', '299'), ('Relish', '399'), ('SELLORIA', '299'), ('Acnos', '1,586'), ('Titan', '379'), ('SWISSTONE', '1,470'), ('Fastrack', '243'), ('Keliss', '1,497'), ('Sonata', '375'), ('Acnos', '255'), ('TIMEWEAR', '399'), ('Shocknshop', '280'), ('Acnos', '990'), ('V2A', '1,645'), ('Fastrack', '336'), ('LORENZ', '399'), ('REDUX', '229'), ('REDUX', '436'), ('Emartos', '289')]\n",
      "Total items avilable 68\n"
     ]
    }
   ],
   "source": [
    "c=driver.find_elements_by_xpath(\"//span[@class='a-size-base-plus a-color-base']\")\n",
    "l=[]\n",
    "for i in c:\n",
    "    l.append(i.text)\n",
    "c1=driver.find_elements_by_xpath(\"//span[@class='a-price-whole']\")\n",
    "l1=[]\n",
    "for i in c1:\n",
    "    l1.append(i.text)\n",
    "list1=list(zip(l,l1))\n",
    "print(\"Item avilable with their price\")\n",
    "print(list1)\n",
    "print(\"Total items avilable\",len(l))"
   ]
  },
  {
   "cell_type": "code",
   "execution_count": 148,
   "metadata": {},
   "outputs": [],
   "source": [
    "# Open different tab where price is 289\n",
    "for i in c1:\n",
    "    if i.text=='289':\n",
    "        i.click()\n",
    "        \n",
    "        "
   ]
  },
  {
   "cell_type": "code",
   "execution_count": 149,
   "metadata": {},
   "outputs": [],
   "source": [
    "c=driver.window_handles[1]\n",
    "driver.switch_to.window(c)"
   ]
  },
  {
   "cell_type": "code",
   "execution_count": 150,
   "metadata": {},
   "outputs": [
    {
     "name": "stdout",
     "output_type": "stream",
     "text": [
      "Your selected item\n",
      "Decode Matrix Analogue Men's Watch (Black Dial Black Colored Strap)\n",
      "Price Need To Pay\n",
      "₹289.00\n"
     ]
    }
   ],
   "source": [
    "print(\"Your selected item\")\n",
    "print(driver.find_element_by_xpath(\"//span[@id='productTitle']\").text)\n",
    "print(\"Price Need To Pay\")\n",
    "print(driver.find_element_by_xpath(\"//tbody/tr[2]/td[2]/span[1]/span[2]\").text)"
   ]
  },
  {
   "cell_type": "code",
   "execution_count": 151,
   "metadata": {},
   "outputs": [],
   "source": [
    "driver.find_element_by_xpath(\"//input[@id='add-to-cart-button']\").click()"
   ]
  },
  {
   "cell_type": "code",
   "execution_count": 153,
   "metadata": {},
   "outputs": [],
   "source": [
    "driver.find_element_by_xpath(\"//span[@id='nav-cart-count']\").click()"
   ]
  },
  {
   "cell_type": "code",
   "execution_count": null,
   "metadata": {},
   "outputs": [],
   "source": []
  }
 ],
 "metadata": {
  "kernelspec": {
   "display_name": "Python 3",
   "language": "python",
   "name": "python3"
  },
  "language_info": {
   "codemirror_mode": {
    "name": "ipython",
    "version": 3
   },
   "file_extension": ".py",
   "mimetype": "text/x-python",
   "name": "python",
   "nbconvert_exporter": "python",
   "pygments_lexer": "ipython3",
   "version": "3.7.3"
  }
 },
 "nbformat": 4,
 "nbformat_minor": 2
}
